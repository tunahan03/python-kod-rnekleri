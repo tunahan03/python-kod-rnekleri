{
 "cells": [
  {
   "cell_type": "code",
   "execution_count": null,
   "id": "d5d3db7d-606c-4951-a5ae-d8e44b3b08da",
   "metadata": {},
   "outputs": [],
   "source": [
    "#hamming sayıları\n",
    "def hamming(n):\n",
    "    if(n%2==0):\n",
    "        return hamming(n/2)\n",
    "    elif(n%3==0):\n",
    "        return hamming(n/3)\n",
    "    elif(n%5==0):\n",
    "        return hamming(n/5)\n",
    "    elif(n==1).\n",
    "    return 1\n",
    "    else:\n",
    "        return 0\n",
    " a=int(input(\"1'den büyük tam sayı: \")); h=hamming(a)\n",
    "if(h==1):\n",
    "    print(\\nhamming sayısıdır\\n\")\n",
    "else:\n",
    "    print(\""
   ]
  }
 ],
 "metadata": {
  "kernelspec": {
   "display_name": "Python 3 (ipykernel)",
   "language": "python",
   "name": "python3"
  },
  "language_info": {
   "codemirror_mode": {
    "name": "ipython",
    "version": 3
   },
   "file_extension": ".py",
   "mimetype": "text/x-python",
   "name": "python",
   "nbconvert_exporter": "python",
   "pygments_lexer": "ipython3",
   "version": "3.9.7"
  }
 },
 "nbformat": 4,
 "nbformat_minor": 5
}
