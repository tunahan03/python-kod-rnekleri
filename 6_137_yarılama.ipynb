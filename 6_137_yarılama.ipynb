{
 "cells": [
  {
   "cell_type": "code",
   "execution_count": null,
   "id": "0fd7b9c2-47b1-43a1-89bd-d32b78a91f83",
   "metadata": {},
   "outputs": [
    {
     "name": "stdin",
     "output_type": "stream",
     "text": [
      "aralığın alt sınırını giriniz= 3\n",
      "aralığın üst sınırını giriniz= 2\n"
     ]
    }
   ],
   "source": [
    "# yarılama yöntemi\n",
    "def f(x):\n",
    "    return x**3-6*x*x-4*x+24\n",
    "a=eval(input(\"aralığın alt sınırını giriniz=\"))\n",
    "b=eval(input(\"aralığın üst sınırını giriniz=\"))\n",
    "h=eval(input(\"hassasiyet değeri=\"))\n",
    "x0=(a+b)/2\n",
    "while (abs(f(x0))>h):\n",
    "    if (f(a)*f(x0)<0):\n",
    "        b=x0\n",
    "    else:\n",
    "        a=x0\n",
    "    x0=(a+b)/2\n",
    "print(\"\\nkök: %0.10f\"%x0)"
   ]
  },
  {
   "cell_type": "code",
   "execution_count": null,
   "id": "80f17b39-bc93-4406-9323-3ba1427e2d79",
   "metadata": {},
   "outputs": [],
   "source": []
  }
 ],
 "metadata": {
  "kernelspec": {
   "display_name": "Python 3 (ipykernel)",
   "language": "python",
   "name": "python3"
  },
  "language_info": {
   "codemirror_mode": {
    "name": "ipython",
    "version": 3
   },
   "file_extension": ".py",
   "mimetype": "text/x-python",
   "name": "python",
   "nbconvert_exporter": "python",
   "pygments_lexer": "ipython3",
   "version": "3.9.7"
  }
 },
 "nbformat": 4,
 "nbformat_minor": 5
}
