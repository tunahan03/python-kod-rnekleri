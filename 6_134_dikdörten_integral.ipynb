{
 "cells": [
  {
   "cell_type": "code",
   "execution_count": null,
   "id": "ee2f4c61-d6a7-4b30-a6d2-0967e94d8a43",
   "metadata": {},
   "outputs": [],
   "source": [
    "#Dikdörtgenler yöntemi\n",
    "def y(x):\n",
    "    return 3*x*x+2*x\n",
    "t=0; a=eval(input(\"aralığın alt sınırı: \"))\n",
    "b=eval(input(\"aralığın üst sınırı: \"))\n",
    "n=int(input(\"parça sayısı: \")); h=(b-a)/n\n",
    "for k in range(1,n+1):\n",
    "    t+=\n"
   ]
  }
 ],
 "metadata": {
  "kernelspec": {
   "display_name": "Python 3 (ipykernel)",
   "language": "python",
   "name": "python3"
  },
  "language_info": {
   "codemirror_mode": {
    "name": "ipython",
    "version": 3
   },
   "file_extension": ".py",
   "mimetype": "text/x-python",
   "name": "python",
   "nbconvert_exporter": "python",
   "pygments_lexer": "ipython3",
   "version": "3.9.7"
  }
 },
 "nbformat": 4,
 "nbformat_minor": 5
}
